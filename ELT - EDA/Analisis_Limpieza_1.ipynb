{
 "cells": [
  {
   "cell_type": "code",
   "execution_count": null,
   "id": "1f6a402c",
   "metadata": {},
   "outputs": [],
   "source": [
    "# Importar librerías\n",
    "\n",
    "import sqlite3\n",
    "import pandas as pd\n",
    "import numpy as np\n",
    "import matplotlib.pyplot as plt\n",
    "import seaborn as sns"
   ]
  },
  {
   "cell_type": "code",
   "execution_count": null,
   "id": "75f6bb88",
   "metadata": {},
   "outputs": [],
   "source": [
    "conexion = sqlite3.connect('c:\\\\Users\\\\benav\\\\Downloads\\\\nba.sqlite')"
   ]
  },
  {
   "cell_type": "code",
   "execution_count": null,
   "id": "63296de2",
   "metadata": {},
   "outputs": [],
   "source": [
    "# Lee todas las tablas que existen en la base de datos\n",
    "query = \"SELECT name FROM sqlite_master WHERE type='table';\"\n",
    "tablas = pd.read_sql(query, conexion)\n",
    "\n",
    "print(tablas)"
   ]
  },
  {
   "cell_type": "code",
   "execution_count": null,
   "id": "d7254770",
   "metadata": {},
   "outputs": [],
   "source": [
    "#VARIABLES PARA FUTURO \n",
    "df_common_player_info = pd.read_sql(\"SELECT * FROM common_player_info\", conexion) #\tDetalles personales y de carrera\n",
    "df_player = pd.read_sql(\"SELECT * FROM player\", conexion) #dentificador y nombre del jugador\n",
    "df_draft_combine_stats = pd.read_sql(\"SELECT * FROM draft_combine_stats\", conexion) #Datos físicos y atléticos\n",
    "df_draft_history = pd.read_sql(\"SELECT * FROM draft_history\", conexion) #Información del draft\n",
    "df_other_stats = pd.read_sql(\"SELECT * FROM other_stats\", conexion) #Estadísticas por partido\n",
    "df_inactive_players = pd.read_sql(\"SELECT * FROM inactive_players\", conexion) #Saber cuándo no jugó (lesiones, sanciones)\n",
    "df_game_summary = pd.read_sql(\"SELECT * FROM game_summary\", conexion) \t#Para ver resultados de partidos donde jugó"
   ]
  }
 ],
 "metadata": {
  "language_info": {
   "name": "python"
  }
 },
 "nbformat": 4,
 "nbformat_minor": 5
}
