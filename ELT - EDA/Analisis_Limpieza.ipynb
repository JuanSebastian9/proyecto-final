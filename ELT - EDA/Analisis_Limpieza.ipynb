{
 "cells": [
  {
   "cell_type": "code",
   "execution_count": 9,
   "id": "88667a33",
   "metadata": {},
   "outputs": [],
   "source": [
    "# Importar librerías\n",
    "\n",
    "import sqlite3\n",
    "import pandas as pd\n",
    "import numpy as np\n",
    "import matplotlib.pyplot as plt\n",
    "import seaborn as sns"
   ]
  },
  {
   "cell_type": "code",
   "execution_count": 10,
   "id": "6809a2e3",
   "metadata": {},
   "outputs": [],
   "source": [
    "conexion = sqlite3.connect('c:\\\\Users\\\\benav\\\\Downloads\\\\nba.sqlite')"
   ]
  },
  {
   "cell_type": "code",
   "execution_count": null,
   "id": "5ceaeb27",
   "metadata": {},
   "outputs": [
    {
     "name": "stdout",
     "output_type": "stream",
     "text": [
      "                   name\n",
      "0                  game\n",
      "1          game_summary\n",
      "2           other_stats\n",
      "3             officials\n",
      "4      inactive_players\n",
      "5             game_info\n",
      "6            line_score\n",
      "7          play_by_play\n",
      "8                player\n",
      "9                  team\n",
      "10   common_player_info\n",
      "11         team_details\n",
      "12         team_history\n",
      "13  draft_combine_stats\n",
      "14        draft_history\n",
      "15     team_info_common\n"
     ]
    }
   ],
   "source": [
    "# Lee todas las tablas que existen en la base de datos\n",
    "query = \"SELECT name FROM sqlite_master WHERE type='table';\"\n",
    "tablas = pd.read_sql(query, conexion)\n",
    "\n",
    "print(tablas)"
   ]
  },
  {
   "cell_type": "code",
   "execution_count": 12,
   "id": "8d38873b",
   "metadata": {},
   "outputs": [],
   "source": [
    "#VARIABLES PARA FUTURO \n",
    "df_common_player_info = pd.read_sql(\"SELECT * FROM common_player_info\", conexion) #\tDetalles personales y de carrera\n",
    "df_player = pd.read_sql(\"SELECT * FROM player\", conexion) #dentificador y nombre del jugador\n",
    "df_draft_combine_stats = pd.read_sql(\"SELECT * FROM draft_combine_stats\", conexion) #Datos físicos y atléticos\n",
    "df_draft_history = pd.read_sql(\"SELECT * FROM draft_history\", conexion) #Información del draft\n",
    "df_other_stats = pd.read_sql(\"SELECT * FROM other_stats\", conexion) #Estadísticas por partido\n",
    "df_inactive_players = pd.read_sql(\"SELECT * FROM inactive_players\", conexion) #Saber cuándo no jugó (lesiones, sanciones)\n",
    "df_game_summary = pd.read_sql(\"SELECT * FROM game_summary\", conexion) \t#Para ver resultados de partidos donde jugó"
   ]
  },
  {
   "cell_type": "markdown",
   "id": "feaee87a",
   "metadata": {},
   "source": [
    "muy pesado el play_by_play"
   ]
  },
  {
   "cell_type": "code",
   "execution_count": 13,
   "id": "32d21794",
   "metadata": {},
   "outputs": [],
   "source": [
    "#df_play_by_play = pd.read_sql(\"SELECT * FROM play_by_play\", conexion)"
   ]
  }
 ],
 "metadata": {
  "kernelspec": {
   "display_name": "Python 3",
   "language": "python",
   "name": "python3"
  },
  "language_info": {
   "codemirror_mode": {
    "name": "ipython",
    "version": 3
   },
   "file_extension": ".py",
   "mimetype": "text/x-python",
   "name": "python",
   "nbconvert_exporter": "python",
   "pygments_lexer": "ipython3",
   "version": "3.13.3"
  }
 },
 "nbformat": 4,
 "nbformat_minor": 5
}
